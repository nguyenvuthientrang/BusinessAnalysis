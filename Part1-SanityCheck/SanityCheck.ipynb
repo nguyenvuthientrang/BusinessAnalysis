{
 "cells": [
  {
   "cell_type": "markdown",
   "id": "d4ef72af",
   "metadata": {},
   "source": [
    "# Sanity Check"
   ]
  },
  {
   "cell_type": "markdown",
   "id": "0c10bdc2",
   "metadata": {},
   "source": [
    "# 0. Preparing"
   ]
  },
  {
   "cell_type": "markdown",
   "id": "7d0c1d80",
   "metadata": {},
   "source": [
    "## Format the cell output"
   ]
  },
  {
   "cell_type": "code",
   "execution_count": 1,
   "id": "1084ef5d",
   "metadata": {},
   "outputs": [
    {
     "data": {
      "text/html": [
       "<style>div.output_area pre{white-space: pre;}</style>\n",
       "    <script>\n",
       "code_show_err=false; \n",
       "function code_toggle_err() {\n",
       " if (code_show_err){\n",
       " $('div.output_stderr').hide();\n",
       " } else {\n",
       " $('div.output_stderr').show();\n",
       " }\n",
       " code_show_err = !code_show_err\n",
       "} \n",
       "$( document ).ready(code_toggle_err);\n",
       "</script>\n",
       "To toggle on/off output_stderr, click <a href=\"javascript:code_toggle_err()\">here</a>."
      ],
      "text/plain": [
       "<IPython.core.display.HTML object>"
      ]
     },
     "execution_count": 1,
     "metadata": {},
     "output_type": "execute_result"
    }
   ],
   "source": [
    "from IPython.core.display import HTML\n",
    "\n",
    "HTML(\n",
    "    \"\"\"<style>div.output_area pre{white-space: pre;}</style>\n",
    "    <script>\n",
    "code_show_err=false; \n",
    "function code_toggle_err() {\n",
    " if (code_show_err){\n",
    " $('div.output_stderr').hide();\n",
    " } else {\n",
    " $('div.output_stderr').show();\n",
    " }\n",
    " code_show_err = !code_show_err\n",
    "} \n",
    "$( document ).ready(code_toggle_err);\n",
    "</script>\n",
    "To toggle on/off output_stderr, click <a href=\"javascript:code_toggle_err()\">here</a>.\"\"\"\n",
    ")"
   ]
  },
  {
   "cell_type": "markdown",
   "id": "59088c4a",
   "metadata": {},
   "source": [
    "## Create Spark Session on top of YARN"
   ]
  },
  {
   "cell_type": "code",
   "execution_count": 2,
   "id": "6860895c",
   "metadata": {},
   "outputs": [
    {
     "name": "stderr",
     "output_type": "stream",
     "text": [
      "Setting default log level to \"WARN\".\n",
      "To adjust logging level use sc.setLogLevel(newLevel). For SparkR, use setLogLevel(newLevel).\n"
     ]
    },
    {
     "name": "stdout",
     "output_type": "stream",
     "text": [
      "23/02/15 00:04:28 WARN NativeCodeLoader: Unable to load native-hadoop library for your platform... using builtin-java classes where applicable\n",
      "23/02/15 00:04:29 WARN Client: Neither spark.yarn.jars nor spark.yarn.archive is set, falling back to uploading libraries under SPARK_HOME.\n"
     ]
    },
    {
     "data": {
      "text/html": [
       "\n",
       "            <div>\n",
       "                <p><b>SparkSession - in-memory</b></p>\n",
       "                \n",
       "        <div>\n",
       "            <p><b>SparkContext</b></p>\n",
       "\n",
       "            <p><a href=\"http://node-master:4040\">Spark UI</a></p>\n",
       "\n",
       "            <dl>\n",
       "              <dt>Version</dt>\n",
       "                <dd><code>v3.3.1</code></dd>\n",
       "              <dt>Master</dt>\n",
       "                <dd><code>yarn</code></dd>\n",
       "              <dt>AppName</dt>\n",
       "                <dd><code>SanityCheck</code></dd>\n",
       "            </dl>\n",
       "        </div>\n",
       "        \n",
       "            </div>\n",
       "        "
      ],
      "text/plain": [
       "<pyspark.sql.session.SparkSession at 0x7f04f47b2460>"
      ]
     },
     "execution_count": 2,
     "metadata": {},
     "output_type": "execute_result"
    }
   ],
   "source": [
    "import pyspark\n",
    "\n",
    "spark = (\n",
    "    pyspark.sql.SparkSession.builder.appName(\"SanityCheck\")\n",
    "    .master(\"yarn\")\n",
    "    .config(\"spark.executor.memory\", \"512m\")\n",
    "    .config(\"spark.executor.instances\", \"2\")\n",
    "    .getOrCreate()\n",
    ")\n",
    "spark"
   ]
  },
  {
   "cell_type": "markdown",
   "id": "48c8d8ca",
   "metadata": {},
   "source": [
    "## Load data from hdfs"
   ]
  },
  {
   "cell_type": "code",
   "execution_count": 3,
   "id": "ea5efa0c",
   "metadata": {},
   "outputs": [
    {
     "name": "stderr",
     "output_type": "stream",
     "text": [
      "                                                                                \r"
     ]
    }
   ],
   "source": [
    "df = spark.read.option(\"header\", \"true\").csv(\n",
    "    \"hdfs://node-master:9000/user/hadoop/KAG_conversion_data.csv\", inferSchema=True\n",
    ")"
   ]
  },
  {
   "cell_type": "markdown",
   "id": "158d2626",
   "metadata": {},
   "source": [
    "## Quick look at the data"
   ]
  },
  {
   "cell_type": "code",
   "execution_count": 4,
   "id": "82598f34",
   "metadata": {},
   "outputs": [
    {
     "name": "stdout",
     "output_type": "stream",
     "text": [
      "root\n",
      " |-- ad_id: integer (nullable = true)\n",
      " |-- xyz_campaign_id: integer (nullable = true)\n",
      " |-- fb_campaign_id: integer (nullable = true)\n",
      " |-- age: string (nullable = true)\n",
      " |-- gender: string (nullable = true)\n",
      " |-- interest: integer (nullable = true)\n",
      " |-- Impressions: integer (nullable = true)\n",
      " |-- Clicks: integer (nullable = true)\n",
      " |-- Spent: double (nullable = true)\n",
      " |-- Total_Conversion: integer (nullable = true)\n",
      " |-- Approved_Conversion: integer (nullable = true)\n",
      "\n",
      "+------+---------------+--------------+-----+------+--------+-----------+------+-----------+----------------+-------------------+\n",
      "| ad_id|xyz_campaign_id|fb_campaign_id|  age|gender|interest|Impressions|Clicks|      Spent|Total_Conversion|Approved_Conversion|\n",
      "+------+---------------+--------------+-----+------+--------+-----------+------+-----------+----------------+-------------------+\n",
      "|708746|            916|        103916|30-34|     M|      15|       7350|     1|1.429999948|               2|                  1|\n",
      "|708749|            916|        103917|30-34|     M|      16|      17861|     2|1.820000023|               2|                  0|\n",
      "|708771|            916|        103920|30-34|     M|      20|        693|     0|        0.0|               1|                  0|\n",
      "|708815|            916|        103928|30-34|     M|      28|       4259|     1|       1.25|               1|                  0|\n",
      "|708818|            916|        103928|30-34|     M|      28|       4133|     1|1.289999962|               1|                  1|\n",
      "|708820|            916|        103929|30-34|     M|      29|       1915|     0|        0.0|               1|                  1|\n",
      "|708889|            916|        103940|30-34|     M|      15|      15615|     3|4.769999981|               1|                  0|\n",
      "|708895|            916|        103941|30-34|     M|      16|      10951|     1|1.269999981|               1|                  1|\n",
      "|708953|            916|        103951|30-34|     M|      27|       2355|     1|        1.5|               1|                  0|\n",
      "|708958|            916|        103952|30-34|     M|      28|       9502|     3|3.159999967|               1|                  0|\n",
      "|708979|            916|        103955|30-34|     M|      31|       1224|     0|        0.0|               1|                  0|\n",
      "|709023|            916|        103962|30-34|     M|       7|        735|     0|        0.0|               1|                  0|\n",
      "|709038|            916|        103965|30-34|     M|      16|       5117|     0|        0.0|               1|                  0|\n",
      "|709040|            916|        103965|30-34|     M|      16|       5120|     0|        0.0|               1|                  0|\n",
      "|709059|            916|        103968|30-34|     M|      20|      14669|     7|10.28000021|               1|                  1|\n",
      "|709105|            916|        103976|30-34|     M|      28|       1241|     0|        0.0|               1|                  1|\n",
      "|709115|            916|        103978|30-34|     M|      30|       2305|     1|0.569999993|               1|                  0|\n",
      "|709124|            916|        103979|30-34|     M|      31|       1024|     0|        0.0|               1|                  1|\n",
      "|709179|            916|        103988|35-39|     M|      15|       4627|     1|1.690000057|               1|                  0|\n",
      "|709183|            916|        103989|35-39|     M|      16|      21026|     4|4.630000114|               2|                  1|\n",
      "+------+---------------+--------------+-----+------+--------+-----------+------+-----------+----------------+-------------------+\n",
      "only showing top 20 rows\n",
      "\n"
     ]
    },
    {
     "data": {
      "text/plain": [
       "1143"
      ]
     },
     "execution_count": 4,
     "metadata": {},
     "output_type": "execute_result"
    }
   ],
   "source": [
    "df.printSchema()\n",
    "df.show()\n",
    "df.count()"
   ]
  },
  {
   "cell_type": "markdown",
   "id": "02b3bf35",
   "metadata": {},
   "source": [
    "# 1. Sanity Check"
   ]
  },
  {
   "cell_type": "markdown",
   "id": "245ffcd1",
   "metadata": {},
   "source": [
    "## Create a temp view for this session"
   ]
  },
  {
   "cell_type": "code",
   "execution_count": 5,
   "id": "5ee29ca6",
   "metadata": {},
   "outputs": [],
   "source": [
    "df.select(\n",
    "    \"ad_id\",\n",
    "    \"xyz_campaign_id\",\n",
    "    \"fb_campaign_id\",\n",
    "    \"age\",\n",
    "    \"gender\",\n",
    "    \"interest\",\n",
    "    \"Impressions\",\n",
    "    \"Clicks\",\n",
    "    \"Spent\",\n",
    "    \"Total_Conversion\",\n",
    "    \"Approved_Conversion\",\n",
    ").createOrReplaceTempView(\"df\")"
   ]
  },
  {
   "cell_type": "markdown",
   "id": "2081c287",
   "metadata": {},
   "source": [
    "## Check Missing "
   ]
  },
  {
   "cell_type": "code",
   "execution_count": 6,
   "id": "4ca59212",
   "metadata": {},
   "outputs": [
    {
     "name": "stdout",
     "output_type": "stream",
     "text": [
      "+-----+---------------+--------------+---+------+--------+-----------+------+-----+----------------+-------------------+\n",
      "|ad_id|xyz_campaign_id|fb_campaign_id|age|gender|interest|Impressions|Clicks|Spent|Total_Conversion|Approved_Conversion|\n",
      "+-----+---------------+--------------+---+------+--------+-----------+------+-----+----------------+-------------------+\n",
      "|    0|              0|             0|  0|     0|       0|          0|     0|    0|               0|                  0|\n",
      "+-----+---------------+--------------+---+------+--------+-----------+------+-----+----------------+-------------------+\n",
      "\n"
     ]
    }
   ],
   "source": [
    "from pyspark.sql.functions import isnan, when, count, col\n",
    "\n",
    "df.select(\n",
    "    [count(when(isnan(c) | col(c).isNull(), c)).alias(c) for c in df.columns]\n",
    ").show()"
   ]
  },
  {
   "cell_type": "markdown",
   "id": "1b098c13",
   "metadata": {},
   "source": [
    "From the query, we found that the data contains no null/nan values"
   ]
  },
  {
   "cell_type": "markdown",
   "id": "66b5c848",
   "metadata": {},
   "source": [
    "## Figure out the features\n",
    "All the columns seems to be easy to understand from its definition, except for the column 'fb_campaign_id'. Let's figure out how they indexed this!"
   ]
  },
  {
   "cell_type": "markdown",
   "id": "2c8b4af8",
   "metadata": {},
   "source": [
    "### fb_campaign_id"
   ]
  },
  {
   "cell_type": "code",
   "execution_count": 7,
   "id": "974add92",
   "metadata": {},
   "outputs": [
    {
     "name": "stdout",
     "output_type": "stream",
     "text": [
      "+------------------------------+\n",
      "|count(DISTINCT fb_campaign_id)|\n",
      "+------------------------------+\n",
      "|                           691|\n",
      "+------------------------------+\n",
      "\n"
     ]
    }
   ],
   "source": [
    "spark.sql(\"SELECT COUNT(DISTINCT fb_campaign_id) FROM df\").show()"
   ]
  },
  {
   "cell_type": "code",
   "execution_count": 8,
   "id": "782f8ab2",
   "metadata": {},
   "outputs": [
    {
     "name": "stdout",
     "output_type": "stream",
     "text": [
      "+---------------+--------------+------+-----+--------+-----------+\n",
      "|xyz_campaign_id|fb_campaign_id|gender|  age|interest|      Spent|\n",
      "+---------------+--------------+------+-----+--------+-----------+\n",
      "|            916|        103928|     M|30-34|      28|       1.25|\n",
      "|            916|        103928|     M|30-34|      28|1.289999962|\n",
      "|            916|        103965|     M|30-34|      16|        0.0|\n",
      "|            916|        103965|     M|30-34|      16|        0.0|\n",
      "|            916|        104012|     M|35-39|      15|        0.0|\n",
      "|            916|        104012|     M|35-39|      15|2.609999895|\n",
      "|            916|        104013|     M|35-39|      16|3.049999952|\n",
      "|            916|        104013|     M|35-39|      16|3.059999943|\n",
      "|            916|        104013|     M|35-39|      16|        0.0|\n",
      "|            916|        104085|     M|40-44|      16|1.690000057|\n",
      "|            916|        104085|     M|40-44|      16|        0.0|\n",
      "|            916|        104205|     F|30-34|      16|        0.0|\n",
      "|            916|        104205|     F|30-34|      16|18.06999969|\n",
      "|            936|        108654|     M|30-34|      10|        0.0|\n",
      "|            936|        108654|     M|30-34|      10|5.629999995|\n",
      "|            936|        108672|     M|30-34|      36|        0.0|\n",
      "|            936|        108672|     M|30-34|      36|        0.0|\n",
      "|            936|        108752|     F|30-34|      16|        0.0|\n",
      "|            936|        108752|     F|30-34|      16|10.03000009|\n",
      "|            936|        108753|     F|30-34|      18|        0.0|\n",
      "+---------------+--------------+------+-----+--------+-----------+\n",
      "only showing top 20 rows\n",
      "\n"
     ]
    }
   ],
   "source": [
    "spark.sql(\n",
    "    \"SELECT xyz_campaign_id, fb_campaign_id, gender, age, interest, Spent FROM df WHERE fb_campaign_id IN \\\n",
    "            (SELECT fb_campaign_id FROM df GROUP BY fb_campaign_id HAVING COUNT(fb_campaign_id) > 1)\"\n",
    ").show()"
   ]
  },
  {
   "cell_type": "markdown",
   "id": "65612394",
   "metadata": {},
   "source": [
    "We can see that, with similar fb_campaign_id, the xyz_id, gender, age, interest are the same, only the Spent is different. Hence, fb_cp_id might be the same campaign ad with the same group of customers but with different budget."
   ]
  },
  {
   "cell_type": "markdown",
   "id": "6ac83380",
   "metadata": {},
   "source": [
    "## Check outliers"
   ]
  },
  {
   "cell_type": "markdown",
   "id": "1b2993ca",
   "metadata": {},
   "source": [
    "### Spent"
   ]
  },
  {
   "cell_type": "code",
   "execution_count": 9,
   "id": "64a7eafc",
   "metadata": {},
   "outputs": [
    {
     "name": "stdout",
     "output_type": "stream",
     "text": [
      "+-------+---------------+--------------+-----+------+--------+-----------+------+-----------+----------------+-------------------+\n",
      "|  ad_id|xyz_campaign_id|fb_campaign_id|  age|gender|interest|Impressions|Clicks|      Spent|Total_Conversion|Approved_Conversion|\n",
      "+-------+---------------+--------------+-----+------+--------+-----------+------+-----------+----------------+-------------------+\n",
      "|1121100|           1178|        144532|30-34|     M|      15|    3052003|   340|639.9499981|              60|                 17|\n",
      "|1121814|           1178|        144659|30-34|     F|      27|    2223278|   421|612.3000032|              38|                 13|\n",
      "|1121601|           1178|        144624|45-49|     M|      16|    2286228|   353| 603.380002|              16|                  7|\n",
      "|1122265|           1178|        144734|45-49|     F|      27|    1428421|   367|541.7000023|              10|                  0|\n",
      "|1122193|           1178|        144722|45-49|     F|      10|    1358324|   346|465.0799981|               8|                  2|\n",
      "|1121824|           1178|        144661|30-34|     F|      29|    1705246|   295|429.4799981|              23|                 10|\n",
      "|1121677|           1178|        144636|45-49|     M|      29|    1391924|   258|422.8400038|              17|                 10|\n",
      "|1121367|           1178|        144585|35-39|     M|      28|    1447755|   233|420.5799983|              11|                  8|\n",
      "|1122266|           1178|        144734|45-49|     F|      27|    1088027|   272|409.5600026|               9|                  4|\n",
      "|1122304|           1178|        144741|45-49|     F|      63|    1111156|   282|402.3000026|               5|                  0|\n",
      "|1122112|           1178|        144709|40-44|     F|      27|    1083259|   276|390.2599992|              11|                  0|\n",
      "|1122262|           1178|        144734|45-49|     F|      27|    1055017|   265|380.6599952|              16|                  2|\n",
      "|1121819|           1178|        144660|30-34|     F|      28|    1189509|   268|375.7199963|               7|                  3|\n",
      "|1122273|           1178|        144736|45-49|     F|      29|    1097966|   266| 369.069997|              16|                  8|\n",
      "|1121593|           1178|        144622|45-49|     M|      10|    1177535|   221|365.6600009|              15|                  3|\n",
      "|1121104|           1178|        144533|30-34|     M|      16|    2080666|   202|360.1500015|              40|                 21|\n",
      "|1121452|           1178|        144599|40-44|     M|      16|    1663441|   205|359.4700001|              17|                  6|\n",
      "|1121196|           1178|        144552|30-34|     M|      28|    1392288|   206|358.5500029|              31|                  7|\n",
      "|1314410|           1178|        179977|45-49|     F|     109|    1129773|   252| 358.189997|              13|                  2|\n",
      "|1121691|           1178|        144639|45-49|     M|      32|     932890|   197|352.4499989|               3|                  1|\n",
      "+-------+---------------+--------------+-----+------+--------+-----------+------+-----------+----------------+-------------------+\n",
      "only showing top 20 rows\n",
      "\n"
     ]
    },
    {
     "data": {
      "image/png": "[encoded data removed]",
      "text/plain": [
       "<Figure size 640x480 with 1 Axes>"
      ]
     },
     "metadata": {},
     "output_type": "display_data"
    }
   ],
   "source": [
    "import seaborn as sns\n",
    "\n",
    "sns.boxplot(x=df.toPandas()[\"Spent\"])\n",
    "df.sort(col(\"Spent\").desc()).show()"
   ]
  },
  {
   "cell_type": "markdown",
   "id": "3539522c",
   "metadata": {},
   "source": [
    "### Impressions"
   ]
  },
  {
   "cell_type": "code",
   "execution_count": 10,
   "id": "784d8a64",
   "metadata": {},
   "outputs": [
    {
     "name": "stdout",
     "output_type": "stream",
     "text": [
      "+-------+---------------+--------------+-----+------+--------+-----------+------+-----------+----------------+-------------------+\n",
      "|  ad_id|xyz_campaign_id|fb_campaign_id|  age|gender|interest|Impressions|Clicks|      Spent|Total_Conversion|Approved_Conversion|\n",
      "+-------+---------------+--------------+-----+------+--------+-----------+------+-----------+----------------+-------------------+\n",
      "|1121100|           1178|        144532|30-34|     M|      15|    3052003|   340|639.9499981|              60|                 17|\n",
      "|1121601|           1178|        144624|45-49|     M|      16|    2286228|   353| 603.380002|              16|                  7|\n",
      "|1121814|           1178|        144659|30-34|     F|      27|    2223278|   421|612.3000032|              38|                 13|\n",
      "|1121104|           1178|        144533|30-34|     M|      16|    2080666|   202|360.1500015|              40|                 21|\n",
      "|1121824|           1178|        144661|30-34|     F|      29|    1705246|   295|429.4799981|              23|                 10|\n",
      "|1121452|           1178|        144599|40-44|     M|      16|    1663441|   205|359.4700001|              17|                  6|\n",
      "|1121367|           1178|        144585|35-39|     M|      28|    1447755|   233|420.5799983|              11|                  8|\n",
      "|1122265|           1178|        144734|45-49|     F|      27|    1428421|   367|541.7000023|              10|                  0|\n",
      "|1121196|           1178|        144552|30-34|     M|      28|    1392288|   206|358.5500029|              31|                  7|\n",
      "|1121677|           1178|        144636|45-49|     M|      29|    1391924|   258|422.8400038|              17|                 10|\n",
      "|1122193|           1178|        144722|45-49|     F|      10|    1358324|   346|465.0799981|               8|                  2|\n",
      "|1314394|           1178|        179961|40-44|     F|     108|    1357386|   223|323.0600071|              10|                  1|\n",
      "|1121856|           1178|        144666|30-34|     F|      63|    1296189|   212|343.2599944|              14|                  4|\n",
      "|1121098|           1178|        144532|30-34|     M|      15|    1267550|   123|236.7699986|              24|                 10|\n",
      "|1121903|           1178|        144674|35-39|     F|      16|    1247717|   222|343.4199994|              11|                  4|\n",
      "|1121605|           1178|        144624|45-49|     M|      16|    1228924|   190|318.9700032|               6|                  3|\n",
      "|1121302|           1178|        144574|35-39|     M|      16|    1206533|   128|236.1199988|              17|                  6|\n",
      "|1121091|           1178|        144531|30-34|     M|      10|    1194718|   141| 254.049996|              28|                 14|\n",
      "|1121819|           1178|        144660|30-34|     F|      28|    1189509|   268|375.7199963|               7|                  3|\n",
      "|1121906|           1178|        144674|35-39|     F|      16|    1184580|   194|297.8299981|              14|                  3|\n",
      "+-------+---------------+--------------+-----+------+--------+-----------+------+-----------+----------------+-------------------+\n",
      "only showing top 20 rows\n",
      "\n"
     ]
    },
    {
     "data": {
      "image/png": "[encoded data removed]",
      "text/plain": [
       "<Figure size 640x480 with 1 Axes>"
      ]
     },
     "metadata": {},
     "output_type": "display_data"
    }
   ],
   "source": [
    "sns.boxplot(x=df.toPandas()[\"Impressions\"])\n",
    "df.sort(col(\"Impressions\").desc()).show()"
   ]
  },
  {
   "cell_type": "markdown",
   "id": "c596806f",
   "metadata": {},
   "source": [
    "### Clicks"
   ]
  },
  {
   "cell_type": "code",
   "execution_count": 11,
   "id": "10a47ec9",
   "metadata": {},
   "outputs": [
    {
     "name": "stdout",
     "output_type": "stream",
     "text": [
      "+-------+---------------+--------------+-----+------+--------+-----------+------+-----------+----------------+-------------------+\n",
      "|  ad_id|xyz_campaign_id|fb_campaign_id|  age|gender|interest|Impressions|Clicks|      Spent|Total_Conversion|Approved_Conversion|\n",
      "+-------+---------------+--------------+-----+------+--------+-----------+------+-----------+----------------+-------------------+\n",
      "|1121814|           1178|        144659|30-34|     F|      27|    2223278|   421|612.3000032|              38|                 13|\n",
      "|1122265|           1178|        144734|45-49|     F|      27|    1428421|   367|541.7000023|              10|                  0|\n",
      "|1121601|           1178|        144624|45-49|     M|      16|    2286228|   353| 603.380002|              16|                  7|\n",
      "|1122193|           1178|        144722|45-49|     F|      10|    1358324|   346|465.0799981|               8|                  2|\n",
      "|1121100|           1178|        144532|30-34|     M|      15|    3052003|   340|639.9499981|              60|                 17|\n",
      "|1121824|           1178|        144661|30-34|     F|      29|    1705246|   295|429.4799981|              23|                 10|\n",
      "|1122304|           1178|        144741|45-49|     F|      63|    1111156|   282|402.3000026|               5|                  0|\n",
      "|1122112|           1178|        144709|40-44|     F|      27|    1083259|   276|390.2599992|              11|                  0|\n",
      "|1122266|           1178|        144734|45-49|     F|      27|    1088027|   272|409.5600026|               9|                  4|\n",
      "|1121819|           1178|        144660|30-34|     F|      28|    1189509|   268|375.7199963|               7|                  3|\n",
      "|1122273|           1178|        144736|45-49|     F|      29|    1097966|   266| 369.069997|              16|                  8|\n",
      "|1122262|           1178|        144734|45-49|     F|      27|    1055017|   265|380.6599952|              16|                  2|\n",
      "|1121677|           1178|        144636|45-49|     M|      29|    1391924|   258|422.8400038|              17|                 10|\n",
      "|1314410|           1178|        179977|45-49|     F|     109|    1129773|   252| 358.189997|              13|                  2|\n",
      "|1122205|           1178|        144724|45-49|     F|      16|    1015460|   247|315.9000051|               9|                  2|\n",
      "|1122113|           1178|        144709|40-44|     F|      27|     913929|   245|340.4099993|               7|                  2|\n",
      "|1314406|           1178|        179973|45-49|     F|     105|    1118200|   235|333.7499943|              11|                  4|\n",
      "|1121367|           1178|        144585|35-39|     M|      28|    1447755|   233|420.5799983|              11|                  8|\n",
      "|1122043|           1178|        144697|40-44|     F|      10|     947657|   233|321.8700004|               8|                  4|\n",
      "|1121962|           1178|        144684|35-39|     F|      27|    1050947|   230|350.5099957|               6|                  1|\n",
      "+-------+---------------+--------------+-----+------+--------+-----------+------+-----------+----------------+-------------------+\n",
      "only showing top 20 rows\n",
      "\n"
     ]
    },
    {
     "data": {
      "image/png": "[encoded data removed]",
      "text/plain": [
       "<Figure size 640x480 with 1 Axes>"
      ]
     },
     "metadata": {},
     "output_type": "display_data"
    }
   ],
   "source": [
    "sns.boxplot(x=df.toPandas()[\"Clicks\"])\n",
    "df.sort(col(\"Clicks\").desc()).show()"
   ]
  },
  {
   "cell_type": "markdown",
   "id": "14934528",
   "metadata": {},
   "source": [
    "### Total_Conversion"
   ]
  },
  {
   "cell_type": "code",
   "execution_count": 12,
   "id": "a9f6ce85",
   "metadata": {},
   "outputs": [
    {
     "name": "stdout",
     "output_type": "stream",
     "text": [
      "+-------+---------------+--------------+-----+------+--------+-----------+------+-----------+----------------+-------------------+\n",
      "|  ad_id|xyz_campaign_id|fb_campaign_id|  age|gender|interest|Impressions|Clicks|      Spent|Total_Conversion|Approved_Conversion|\n",
      "+-------+---------------+--------------+-----+------+--------+-----------+------+-----------+----------------+-------------------+\n",
      "|1121100|           1178|        144532|30-34|     M|      15|    3052003|   340|639.9499981|              60|                 17|\n",
      "|1121104|           1178|        144533|30-34|     M|      16|    2080666|   202|360.1500015|              40|                 21|\n",
      "|1121814|           1178|        144659|30-34|     F|      27|    2223278|   421|612.3000032|              38|                 13|\n",
      "|1121196|           1178|        144552|30-34|     M|      28|    1392288|   206|358.5500029|              31|                  7|\n",
      "|1314387|           1178|        179954|40-44|     F|     101|     696612|   152|223.1899948|              31|                  9|\n",
      "|1314398|           1178|        179965|40-44|     F|     112|    1137635|   211|301.0499992|              30|                 10|\n",
      "|1121091|           1178|        144531|30-34|     M|      10|    1194718|   141| 254.049996|              28|                 14|\n",
      "|1121746|           1178|        144648|30-34|     F|      15|    1117371|   177| 268.050002|              26|                  5|\n",
      "|1121108|           1178|        144533|30-34|     M|      16|     984521|    95|163.8999972|              26|                 14|\n",
      "|1121098|           1178|        144532|30-34|     M|      15|    1267550|   123|236.7699986|              24|                 10|\n",
      "|1314367|           1178|        179934|30-34|     F|     111|     665817|   117|163.8000002|              23|                  9|\n",
      "|1121167|           1178|        144545|30-34|     M|      25|    1063508|   145|260.3800013|              23|                  7|\n",
      "|1121824|           1178|        144661|30-34|     F|      29|    1705246|   295|429.4799981|              23|                 10|\n",
      "|1121203|           1178|        144554|30-34|     M|      29|    1048861|   128| 219.770002|              22|                  8|\n",
      "|1121182|           1178|        144549|30-34|     M|      27|     876671|   120|216.5599982|              22|                  4|\n",
      "|1121206|           1178|        144554|30-34|     M|      29|     227925|    22|35.30999994|              22|                 12|\n",
      "|1121278|           1178|        144570|30-34|     M|       7|    1044442|   142|245.5999999|              22|                  8|\n",
      "|1314360|           1178|        179927|30-34|     F|     104|     442919|    76|110.7800021|              21|                  2|\n",
      "|1121125|           1178|        144536|30-34|     M|      20|    1034284|   152|257.7099986|              20|                  9|\n",
      "|1314363|           1178|        179930|30-34|     F|     107|     780967|    86|119.6400018|              20|                  4|\n",
      "+-------+---------------+--------------+-----+------+--------+-----------+------+-----------+----------------+-------------------+\n",
      "only showing top 20 rows\n",
      "\n"
     ]
    },
    {
     "data": {
      "image/png": "[encoded data removed]",
      "text/plain": [
       "<Figure size 640x480 with 1 Axes>"
      ]
     },
     "metadata": {},
     "output_type": "display_data"
    }
   ],
   "source": [
    "sns.boxplot(x=df.toPandas()[\"Total_Conversion\"])\n",
    "df.sort(col(\"Total_Conversion\").desc()).show()"
   ]
  },
  {
   "cell_type": "markdown",
   "id": "351eed4c",
   "metadata": {},
   "source": [
    "### Approved_Conversion"
   ]
  },
  {
   "cell_type": "code",
   "execution_count": 13,
   "id": "7033ff06",
   "metadata": {},
   "outputs": [
    {
     "name": "stdout",
     "output_type": "stream",
     "text": [
      "+-------+---------------+--------------+-----+------+--------+-----------+------+-----------+----------------+-------------------+\n",
      "|  ad_id|xyz_campaign_id|fb_campaign_id|  age|gender|interest|Impressions|Clicks|      Spent|Total_Conversion|Approved_Conversion|\n",
      "+-------+---------------+--------------+-----+------+--------+-----------+------+-----------+----------------+-------------------+\n",
      "|1121104|           1178|        144533|30-34|     M|      16|    2080666|   202|360.1500015|              40|                 21|\n",
      "|1121100|           1178|        144532|30-34|     M|      15|    3052003|   340|639.9499981|              60|                 17|\n",
      "|1121091|           1178|        144531|30-34|     M|      10|    1194718|   141| 254.049996|              28|                 14|\n",
      "|1121108|           1178|        144533|30-34|     M|      16|     984521|    95|163.8999972|              26|                 14|\n",
      "|1121814|           1178|        144659|30-34|     F|      27|    2223278|   421|612.3000032|              38|                 13|\n",
      "|1121206|           1178|        144554|30-34|     M|      29|     227925|    22|35.30999994|              22|                 12|\n",
      "|1121098|           1178|        144532|30-34|     M|      15|    1267550|   123|236.7699986|              24|                 10|\n",
      "|1314398|           1178|        179965|40-44|     F|     112|    1137635|   211|301.0499992|              30|                 10|\n",
      "|1121824|           1178|        144661|30-34|     F|      29|    1705246|   295|429.4799981|              23|                 10|\n",
      "|1121677|           1178|        144636|45-49|     M|      29|    1391924|   258|422.8400038|              17|                 10|\n",
      "|1314387|           1178|        179954|40-44|     F|     101|     696612|   152|223.1899948|              31|                  9|\n",
      "|1121125|           1178|        144536|30-34|     M|      20|    1034284|   152|257.7099986|              20|                  9|\n",
      "|1314367|           1178|        179934|30-34|     F|     111|     665817|   117|163.8000002|              23|                  9|\n",
      "|1121278|           1178|        144570|30-34|     M|       7|    1044442|   142|245.5999999|              22|                  8|\n",
      "|1121367|           1178|        144585|35-39|     M|      28|    1447755|   233|420.5799983|              11|                  8|\n",
      "|1121676|           1178|        144636|45-49|     M|      29|    1026304|   168|277.5799986|              17|                  8|\n",
      "|1121203|           1178|        144554|30-34|     M|      29|    1048861|   128| 219.770002|              22|                  8|\n",
      "|1122273|           1178|        144736|45-49|     F|      29|    1097966|   266| 369.069997|              16|                  8|\n",
      "|1121167|           1178|        144545|30-34|     M|      25|    1063508|   145|260.3800013|              23|                  7|\n",
      "|1121196|           1178|        144552|30-34|     M|      28|    1392288|   206|358.5500029|              31|                  7|\n",
      "+-------+---------------+--------------+-----+------+--------+-----------+------+-----------+----------------+-------------------+\n",
      "only showing top 20 rows\n",
      "\n"
     ]
    },
    {
     "data": {
      "image/png": "[encoded data removed]",
      "text/plain": [
       "<Figure size 640x480 with 1 Axes>"
      ]
     },
     "metadata": {},
     "output_type": "display_data"
    }
   ],
   "source": [
    "sns.boxplot(x=df.toPandas()[\"Approved_Conversion\"])\n",
    "df.sort(col(\"Approved_Conversion\").desc()).show()"
   ]
  },
  {
   "cell_type": "markdown",
   "id": "f9de1ed2",
   "metadata": {},
   "source": [
    "## Check for constraints violation\n",
    "We test some constraints that can be inferred from the definition of columns:\n",
    "- If Spent = 0 then Impressions, Clicks, Total_Conversion, Approved_Conversion = 0\n",
    "- Approved_Conversion < Total Conversions < Clicks < Impressions"
   ]
  },
  {
   "cell_type": "code",
   "execution_count": 14,
   "id": "c026e26c",
   "metadata": {},
   "outputs": [
    {
     "name": "stdout",
     "output_type": "stream",
     "text": [
      "Spent=0:\n",
      "+--------+\n",
      "|count(1)|\n",
      "+--------+\n",
      "|     207|\n",
      "+--------+\n",
      "\n"
     ]
    }
   ],
   "source": [
    "print(\"Spent=0:\")\n",
    "spark.sql(\n",
    "    \"SELECT count(*) \\\n",
    "            FROM df \\\n",
    "            WHERE Spent = 0 AND (Impressions > 0 OR Clicks > 0 OR Total_Conversion > 0 OR Approved_Conversion > 0)\"\n",
    ").show()"
   ]
  },
  {
   "cell_type": "markdown",
   "id": "347381c5",
   "metadata": {},
   "source": [
    "There are 207 records does not satisfy the first constraints, let's see where it comes from"
   ]
  },
  {
   "cell_type": "code",
   "execution_count": 15,
   "id": "93a60860",
   "metadata": {},
   "outputs": [
    {
     "name": "stdout",
     "output_type": "stream",
     "text": [
      "Spent=0 & Impressions>0:\n",
      "+--------+\n",
      "|count(1)|\n",
      "+--------+\n",
      "|     207|\n",
      "+--------+\n",
      "\n"
     ]
    }
   ],
   "source": [
    "print(\"Spent=0 & Impressions>0:\")\n",
    "spark.sql(\n",
    "    \"SELECT count(*) \\\n",
    "            FROM df \\\n",
    "            WHERE Spent = 0 AND (Impressions > 0)\"\n",
    ").show()"
   ]
  },
  {
   "cell_type": "code",
   "execution_count": 16,
   "id": "7c4f0bc6",
   "metadata": {},
   "outputs": [
    {
     "name": "stdout",
     "output_type": "stream",
     "text": [
      "Spent=0 & Clicks>0:\n",
      "+--------+\n",
      "|count(1)|\n",
      "+--------+\n",
      "|       0|\n",
      "+--------+\n",
      "\n"
     ]
    }
   ],
   "source": [
    "print(\"Spent=0 & Clicks>0:\")\n",
    "spark.sql(\n",
    "    \"SELECT count(*) \\\n",
    "            FROM df \\\n",
    "            WHERE Spent = 0 AND (Clicks > 0)\"\n",
    ").show()"
   ]
  },
  {
   "cell_type": "code",
   "execution_count": 17,
   "id": "83ef279f",
   "metadata": {},
   "outputs": [
    {
     "name": "stdout",
     "output_type": "stream",
     "text": [
      "Spent=0 & Total_Conversion>0:\n",
      "+--------+\n",
      "|count(1)|\n",
      "+--------+\n",
      "|     204|\n",
      "+--------+\n",
      "\n"
     ]
    }
   ],
   "source": [
    "print(\"Spent=0 & Total_Conversion>0:\")\n",
    "spark.sql(\n",
    "    \"SELECT count(*) \\\n",
    "            FROM df \\\n",
    "            WHERE Spent = 0 AND (Total_Conversion > 0)\"\n",
    ").show()"
   ]
  },
  {
   "cell_type": "code",
   "execution_count": 18,
   "id": "c8c21619",
   "metadata": {},
   "outputs": [
    {
     "name": "stdout",
     "output_type": "stream",
     "text": [
      "Spent=0 & Approved_Conversion>0:\n",
      "+--------+\n",
      "|count(1)|\n",
      "+--------+\n",
      "|      71|\n",
      "+--------+\n",
      "\n"
     ]
    }
   ],
   "source": [
    "print(\"Spent=0 & Approved_Conversion>0:\")\n",
    "spark.sql(\n",
    "    \"SELECT count(*) \\\n",
    "            FROM df \\\n",
    "            WHERE Spent = 0 AND (Approved_Conversion > 0)\"\n",
    ").show()"
   ]
  },
  {
   "cell_type": "markdown",
   "id": "b192b258",
   "metadata": {},
   "source": [
    "The contraints violation mostly comes from the Impression. In practice, we thought of this as the cases that the auto-recommender system of facebook recommend the ads for users that have the same taste with the targeted users, or the friend lists of the targeted users."
   ]
  },
  {
   "cell_type": "code",
   "execution_count": 19,
   "id": "4405e827",
   "metadata": {},
   "outputs": [
    {
     "name": "stdout",
     "output_type": "stream",
     "text": [
      "Clicks > Impressions:\n",
      "+--------+\n",
      "|count(1)|\n",
      "+--------+\n",
      "|       0|\n",
      "+--------+\n",
      "\n"
     ]
    }
   ],
   "source": [
    "print(\"Clicks > Impressions:\")\n",
    "spark.sql(\n",
    "    \"SELECT COUNT(*) \\\n",
    "            FROM df \\\n",
    "            WHERE Clicks > Impressions\"\n",
    ").show()"
   ]
  },
  {
   "cell_type": "code",
   "execution_count": 20,
   "id": "fcd691b6",
   "metadata": {},
   "outputs": [
    {
     "name": "stdout",
     "output_type": "stream",
     "text": [
      "Total_Conversion > Clicks:\n",
      "+--------+\n",
      "|count(1)|\n",
      "+--------+\n",
      "|     218|\n",
      "+--------+\n",
      "\n"
     ]
    }
   ],
   "source": [
    "print(\"Total_Conversion > Clicks:\")\n",
    "spark.sql(\n",
    "    \"SELECT COUNT(*) \\\n",
    "            FROM df \\\n",
    "            WHERE Total_Conversion > Clicks\"\n",
    ").show()"
   ]
  },
  {
   "cell_type": "code",
   "execution_count": 21,
   "id": "6aff1188",
   "metadata": {},
   "outputs": [
    {
     "name": "stdout",
     "output_type": "stream",
     "text": [
      "Approved_Conversion > Clicks:\n",
      "+--------+\n",
      "|count(1)|\n",
      "+--------+\n",
      "|      72|\n",
      "+--------+\n",
      "\n"
     ]
    }
   ],
   "source": [
    "print(\"Approved_Conversion > Clicks:\")\n",
    "spark.sql(\n",
    "    \"SELECT COUNT(*) \\\n",
    "            FROM df \\\n",
    "            WHERE Approved_Conversion > Clicks\"\n",
    ").show()"
   ]
  },
  {
   "cell_type": "markdown",
   "id": "7bddc31e",
   "metadata": {},
   "source": [
    "print(\"Total_Conversion > Impressions:\")\n",
    "spark.sql(\"SELECT COUNT(*) \\\n",
    "            FROM df \\\n",
    "            WHERE Total_Conversion > Impressions\").show()"
   ]
  },
  {
   "cell_type": "code",
   "execution_count": 22,
   "id": "b5c669e7",
   "metadata": {},
   "outputs": [
    {
     "name": "stdout",
     "output_type": "stream",
     "text": [
      "Approved_Conversion > Impressions\n",
      "+--------+\n",
      "|count(1)|\n",
      "+--------+\n",
      "|       0|\n",
      "+--------+\n",
      "\n"
     ]
    }
   ],
   "source": [
    "print(\"Approved_Conversion > Impressions\")\n",
    "spark.sql(\n",
    "    \"SELECT COUNT(*) \\\n",
    "            FROM df \\\n",
    "            WHERE Approved_Conversion > Impressions\"\n",
    ").show()"
   ]
  },
  {
   "cell_type": "code",
   "execution_count": 23,
   "id": "e8782fbb",
   "metadata": {},
   "outputs": [
    {
     "name": "stdout",
     "output_type": "stream",
     "text": [
      "Approved_Conversion > Total_Conversion:\n",
      "+-----+---------------+--------------+---+------+--------+-----------+------+-----+----------------+-------------------+\n",
      "|ad_id|xyz_campaign_id|fb_campaign_id|age|gender|interest|Impressions|Clicks|Spent|Total_Conversion|Approved_Conversion|\n",
      "+-----+---------------+--------------+---+------+--------+-----------+------+-----+----------------+-------------------+\n",
      "+-----+---------------+--------------+---+------+--------+-----------+------+-----+----------------+-------------------+\n",
      "\n"
     ]
    }
   ],
   "source": [
    "print(\"Approved_Conversion > Total_Conversion:\")\n",
    "spark.sql(\n",
    "    \"SELECT * \\\n",
    "            FROM df \\\n",
    "            WHERE Approved_Conversion > Total_Conversion\"\n",
    ").show()"
   ]
  },
  {
   "cell_type": "markdown",
   "id": "51dcfb82",
   "metadata": {},
   "source": [
    "Also, there are some none-clicked ads but still have conversions. We can see that not all enquiries/sales comes from the ads."
   ]
  },
  {
   "cell_type": "markdown",
   "id": "34de6bfe",
   "metadata": {},
   "source": [
    "# 2. Stop the Spark Session"
   ]
  },
  {
   "cell_type": "code",
   "execution_count": 24,
   "id": "c9dba083",
   "metadata": {},
   "outputs": [],
   "source": [
    "spark.stop()"
   ]
  }
 ],
 "metadata": {
  "kernelspec": {
   "display_name": "Python 3 (ipykernel)",
   "language": "python",
   "name": "python3"
  },
  "language_info": {
   "codemirror_mode": {
    "name": "ipython",
    "version": 3
   },
   "file_extension": ".py",
   "mimetype": "text/x-python",
   "name": "python",
   "nbconvert_exporter": "python",
   "pygments_lexer": "ipython3",
   "version": "3.8.10"
  }
 },
 "nbformat": 4,
 "nbformat_minor": 5
}
